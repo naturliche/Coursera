{
 "cells": [
  {
   "cell_type": "markdown",
   "metadata": {},
   "source": [
    "### 暴力破解加密压缩文件\n",
    "* 任务1：定义一个函数，函数带有一个参数L（类型为整数），函数返回一个长度为L、包含大小写字母和数字的随机密码（类型为字符串）。\n",
    "* 任务2：定义一个函数，函数带有一个参数（类型为字符串，表示一个密码），函数判断密码是否符合要求：8 位以上，包含英文大小写字母、数字。如果符合要求，返回True；否则返回False。\n",
    "* 任务 3：定义一个函数，函数带有两个参数，一个是要解压的文件路径，一个是解压密码。如果解压成功则返回True；否则返回False。\n"
   ]
  },
  {
   "cell_type": "code",
   "execution_count": 71,
   "metadata": {},
   "outputs": [],
   "source": [
    "import string\n",
    "import random\n",
    "import re\n",
    "import zipfile"
   ]
  },
  {
   "cell_type": "code",
   "execution_count": 14,
   "metadata": {},
   "outputs": [
    {
     "name": "stdout",
     "output_type": "stream",
     "text": [
      "abcdefghijklmnopqrstuvwxyzABCDEFGHIJKLMNOPQRSTUVWXYZ\n"
     ]
    }
   ],
   "source": [
    "result = string.ascii_letters\n",
    "print(result)"
   ]
  },
  {
   "cell_type": "code",
   "execution_count": 15,
   "metadata": {},
   "outputs": [
    {
     "name": "stdout",
     "output_type": "stream",
     "text": [
      "qpAZc3cJz3\n"
     ]
    }
   ],
   "source": [
    "def rand_pass(L):\n",
    "    generate_pass = ''.join([random.choice(string.ascii_letters + string.digits)\n",
    "                             for i in range(L)])\n",
    "    return generate_pass\n",
    "\n",
    "password = rand_pass(10)\n",
    "print(password)\n",
    "#https://www.geeksforgeeks.org/python-string-ascii_letters/"
   ]
  },
  {
   "cell_type": "code",
   "execution_count": 53,
   "metadata": {},
   "outputs": [
    {
     "name": "stdout",
     "output_type": "stream",
     "text": [
      "False\n",
      "False\n",
      "True\n",
      "True\n",
      "False\n",
      "True\n",
      "False\n",
      "False\n"
     ]
    }
   ],
   "source": [
    "def check_pass(password):\n",
    "    if len(password) < 8:\n",
    "        return False\n",
    "    else:\n",
    "        lowerRe = re.compile('[a-z]')\n",
    "        upperRe = re.compile('[A-Z]')\n",
    "        digitRe = re.compile('[0-9]')\n",
    "        #wrongRe = re.compile(\"[^a-zA-Z0-9]\")  #not match\n",
    "        #elif true_pass.search(password) != None:  #无效字符\n",
    "            #return False\n",
    "        if(lowerRe.search(password) != None and upperRe.search(password) != None\n",
    "           and digitRe.search(password) != None):\n",
    "            return True\n",
    "        else:\n",
    "            return False\n",
    "check_pass(\"swiWK903js7\") \n",
    "\n",
    "testList = [\"13t11jtk\",\"12345678901\",\"3aA245362\",\"123t2lASDJ\",\n",
    "            \"password\",\"Avbw23r9gfs\",\"23523523613\",\"AJFQWEFQWFK\"]\n",
    "\n",
    "for i in testList:\n",
    "    print(check_pass(i))\n",
    "#https://www.cnblogs.com/pizitai/p/6398276.html"
   ]
  },
  {
   "cell_type": "code",
   "execution_count": 76,
   "metadata": {},
   "outputs": [
    {
     "data": {
      "text/plain": [
       "True"
      ]
     },
     "execution_count": 76,
     "metadata": {},
     "output_type": "execute_result"
    }
   ],
   "source": [
    "def ZipPwd(zip_file,password):\n",
    "    if zipfile.is_zipfile(zip_file) != True:\n",
    "        return print(\"非有效的zipfile\")\n",
    "    else:\n",
    "        with zipfile.ZipFile(zip_file,\"r\") as zFile:#read zipfile\n",
    "            try:\n",
    "                zFile.extractall(pwd = password.encode(\"utf-8\"))\n",
    "                return True\n",
    "            except:\n",
    "                return False\n",
    "ZipPwd(\"C:/Users/natur/Desktop/a大三下/安全前言/实验/实验三/test3.zip\",\"nihaoBaum13\")\n",
    "#https://www.shiyanlou.com/courses/reports/1245184/"
   ]
  },
  {
   "cell_type": "code",
   "execution_count": 80,
   "metadata": {},
   "outputs": [
    {
     "data": {
      "text/plain": [
       "False"
      ]
     },
     "execution_count": 80,
     "metadata": {},
     "output_type": "execute_result"
    }
   ],
   "source": [
    "def ZipPwd(zip_file,password):\n",
    "    if zipfile.is_zipfile(zip_file) != True:\n",
    "        return print(\"非有效的zipfile\")\n",
    "    else:\n",
    "        with zipfile.ZipFile(zip_file,\"r\") as zFile:#read zipfile\n",
    "            try:\n",
    "                zFile.extractall(pwd = password)\n",
    "                return True\n",
    "            except:\n",
    "                return False\n",
    "ZipPwd(\"C:/Users/natur/Desktop/a大三下/安全前言/实验/实验三/test3.zip\",\"nihaoBaum13\")\n",
    "#https://www.shiyanlou.com/courses/reports/1245184/"
   ]
  },
  {
   "cell_type": "code",
   "execution_count": 78,
   "metadata": {},
   "outputs": [
    {
     "data": {
      "text/plain": [
       "True"
      ]
     },
     "execution_count": 78,
     "metadata": {},
     "output_type": "execute_result"
    }
   ],
   "source": [
    "def ZipPwd(zip_file,password):\n",
    "    if zipfile.is_zipfile(zip_file) != True:\n",
    "        return print(\"非有效的zipfile\")\n",
    "    else:\n",
    "        with zipfile.ZipFile(zip_file,\"r\") as zFile:#read zipfile\n",
    "            try:\n",
    "                zFile.extractall(pwd = str.encode(password))\n",
    "                return True\n",
    "            except:\n",
    "                return False\n",
    "ZipPwd(\"C:/Users/natur/Desktop/a大三下/安全前言/实验/实验三/test33.zip\",\"B9u\")\n",
    "#https://www.shiyanlou.com/courses/reports/1245184/"
   ]
  },
  {
   "cell_type": "code",
   "execution_count": null,
   "metadata": {},
   "outputs": [],
   "source": [
    "if __name__ == '__main__':\n",
    "    zip_file = input(\"请输入文件路径：\")\n",
    "    L = int(input(\"请输入猜测的密码的长度:\"))\n",
    "    while True:\n",
    "        password0 = rand_pass(L)\n",
    "        if check_pass(password0) == True:\n",
    "            password = password0\n",
    "            if ZipPwd(zip_file,password) == True:\n",
    "                break"
   ]
  }
 ],
 "metadata": {
  "kernelspec": {
   "display_name": "Python 3",
   "language": "python",
   "name": "python3"
  },
  "language_info": {
   "codemirror_mode": {
    "name": "ipython",
    "version": 3
   },
   "file_extension": ".py",
   "mimetype": "text/x-python",
   "name": "python",
   "nbconvert_exporter": "python",
   "pygments_lexer": "ipython3",
   "version": "3.7.4"
  }
 },
 "nbformat": 4,
 "nbformat_minor": 2
}
